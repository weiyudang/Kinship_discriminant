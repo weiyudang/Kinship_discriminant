{
 "cells": [
  {
   "cell_type": "code",
   "execution_count": 97,
   "metadata": {
    "collapsed": false
   },
   "outputs": [],
   "source": [
    "%matplotlib  inline\n",
    "import pandas  as pd\n",
    "import numpy as np\n",
    "import xgboost as xgb\n",
    "#encoding:utf-8\n",
    "\n",
    "import pandas as pd\n",
    "import numpy as np\n",
    "import matplotlib.pylab as plt\n",
    "\n",
    "def get_relative_title():\n",
    "    relative_title='''父、母、大姑、二姑、三姑、姑姑、二叔、三叔、大伯、二伯、姐姐、妹、第 、\n",
    "    嫂 、姐夫、妹夫、大舅、二舅、老姨、二姨、大姨、岳父、女婿、外婆、小舅、\n",
    "    媳妇、宝宝、宝贝儿、老婆 、亲爱、丈母娘、\n",
    "    夫亲、郎君、夫君、良人、官人、相公、老公、爱人、卿卿、外子、外人、老头子、老伴、\n",
    "    娘子、内人、良人、内子、老婆、爱人、卿卿、老婆子、老伴、\n",
    "    爹、爹爹、爹亲、爹地、大大、老爸、爸比、爸、老爷子、\n",
    "    娘娘、娘亲、娘妮、老妈、妈咪、妈、老娘、\n",
    "    哥哥、兄长、兄台、兄亲、姊长、姊台、姊亲、\n",
    "    弟、兄弟、弟子、弟亲、dad、mom、\n",
    "    妹、姊妹、妹子、妹亲、妈、\n",
    "    儿子、囝男、宝贝、孩子、女儿、闺女、囡女、丫头、宝贝、孩子、\n",
    "    嫂子、兄嫂、兄妇、兄妻、老二、\n",
    "    姐夫、姊兄、姊郎、姊丈、\n",
    "    弟媳妇、兄弟媳妇、弟妹、弟妇、\n",
    "    儿媳妇、半女、息妇、媳妇、三婶、大娘、二婶、\n",
    "    爹、丈人、岳父、泰山、大大、老爸、爸、老爷子、\n",
    "    娘、丈母娘、岳母、泰水、老妈、妈、老娘、\n",
    "    爹、公公、公爹、大大、老爸、爸、老爷子、太上皇、\n",
    "    娘、婆母娘、婆娘、老妈、妈、老娘、\n",
    "    大舅哥、大舅子、小舅弟、小舅子、姑爷、老二、老三、\n",
    "    妹、姊妹、妹子、小姨妹、小姨子、\n",
    "    妹夫、妹弟、妹郎、小姑夫、表哥、大姐、大哥、二哥、三哥、三姐、二姐、大姐'''\n",
    "    relative_title=set([ line.strip() for line in relative_title.split('、')  if len(line)>0])\n",
    "    return relative_title\n",
    "\n",
    "\n",
    "def is_relatives(word):\n",
    "    relative_title=get_relative_title()\n",
    "    spec_cond=('老婆' in word) or ('老公' in word) or ('母' in word) or ('宝贝' in word) or ('亲爱' in word) or (word =='姐') or (word =='哥')\n",
    "    for rn in relative_title:\n",
    "        if rn in word and len(word)<10:\n",
    "            flag=1\n",
    "            break\n",
    "        elif  spec_cond:\n",
    "            flag=1\n",
    "            break\n",
    "        else:\n",
    "            flag=0\n",
    "    return flag\n",
    "\n",
    "def get_relative(pdSeris):\n",
    "    relative_arr=np.array([is_relatives(name)  for name in pdSeris.values])\n",
    "    return relative_arr\n",
    "from sklearn.metrics import r2_score, auc,roc_auc_score,precision_score,accuracy_score,f1_score,recall_score,auc"
   ]
  },
  {
   "cell_type": "code",
   "execution_count": 106,
   "metadata": {
    "collapsed": false
   },
   "outputs": [
    {
     "name": "stdout",
     "output_type": "stream",
     "text": [
      "0.759527995394\n",
      "0.750434027778\n",
      "0.759448643842\n",
      "0.761674008811\n",
      "0.773255813953\n"
     ]
    }
   ],
   "source": [
    "#encoding:utf-8\n",
    "#by yudang.wei\n",
    "import  pandas as pd\n",
    "# from utils import   *\n",
    "import numpy as np\n",
    "import xgboost as xgb\n",
    "\n",
    "from sklearn.cross_validation import train_test_split\n",
    "from sklearn.metrics import r2_score, auc,roc_auc_score,precision_score,accuracy_score,f1_score,recall_score,auc\n",
    "\n",
    "##1.数据清理\n",
    "rel_data=pd.read_csv('../data/relatives_c2c.csv',index_col=0)\n",
    "rel_data.drop(['custorm_id.1','number.1','custorm_id.2','number.2','custorm_id.3','number.3',],axis=1,inplace=True)\n",
    "rel_data.fillna(0,inplace=True)\n",
    "\n",
    "## 2.打标签\n",
    "rel_data['is_rel']=get_relative(rel_data.name)\n",
    "rel_df=rel_data[rel_data.is_rel==1]\n",
    "unrel_df=rel_data[rel_data.is_rel==0]\n",
    "rel_num=rel_df.shape[0]\n",
    "unrel_num=unrel_df.shape[0]\n",
    "\n",
    "##3. 采样：数据不平衡的情况下尽量使用重采样\n",
    "\n",
    "## 下采样（Undersampling）:对非亲属数据欠采样，使得数据保持均衡\n",
    "# sampler = np.random.permutation(unrel_num)[:rel_num*3]\n",
    "# unrel_df=rel_data[rel_data.is_rel==0].take(sampler)\n",
    "\n",
    "### 上采样（Oversampling）：对亲属数据重采样，保持数据均衡\n",
    "sampler = np.random.randint(0,rel_num,size=unrel_num)\n",
    "rel_df=rel_data[rel_data.is_rel==1].take(sampler)\n",
    "rel_data=pd.concat([rel_df,unrel_df],axis=0)\n",
    "rel_data.drop(['name','number'],axis=1,inplace=True)\n",
    "### smote算法  python\n",
    "\n",
    "\n",
    "## 4 测试集、训练集合分开\n",
    "rel_feature=rel_data.ix[:,:-1]\n",
    "target=rel_data.is_rel\n",
    "X_train, X_test, y_train, y_test = train_test_split(rel_feature, target)\n",
    "\n",
    "## 模型训练\n",
    "model = xgb.XGBClassifier(n_estimators=150)\n",
    "model.fit(X_train, y_train)\n",
    "y_pred = model.predict(X_test)\n",
    "model = xgb.XGBClassifier()\n",
    "\n",
    "##  参数调优化\n",
    "\n",
    "print roc_auc_score(y_test, y_pred)\n",
    "print precision_score(y_test,y_pred)\n",
    "print accuracy_score(y_test,y_pred)\n",
    "print f1_score(y_test,y_pred)\n",
    "print recall_score(y_test,y_pred)"
   ]
  },
  {
   "cell_type": "code",
   "execution_count": 83,
   "metadata": {
    "collapsed": false
   },
   "outputs": [],
   "source": [
    "rel_data=pd.read_csv('relatives_c2c.csv',index_col=0)\n",
    "rel_data.drop(['custorm_id.1','number.1','custorm_id.2','number.2','custorm_id.3','number.3',],axis=1,inplace=True)\n",
    "# target=get_relative(rel_data.name)\n",
    "# rel_data.drop(['custorm_id.1','number.1','custorm_id.2','number.2','custorm_id.3','number.3','number','name'],axis=1,inplace=True)\n",
    "rel_data.fillna(0,inplace=True)"
   ]
  },
  {
   "cell_type": "code",
   "execution_count": 84,
   "metadata": {
    "collapsed": false
   },
   "outputs": [],
   "source": [
    "rel_data['is_rel']=get_relative(rel_data.name)"
   ]
  },
  {
   "cell_type": "code",
   "execution_count": 85,
   "metadata": {
    "collapsed": false
   },
   "outputs": [],
   "source": [
    "rel_df=rel_data[rel_data.is_rel==1]\n",
    "unrel_df=rel_data[rel_data.is_rel==0]\n",
    "rel_num=rel_df.shape[0]\n",
    "unrel_num=unrel_df.shape[0]"
   ]
  },
  {
   "cell_type": "code",
   "execution_count": 86,
   "metadata": {
    "collapsed": false
   },
   "outputs": [],
   "source": [
    "## 下采样（Undersampling）:对非亲属数据欠采样，使得数据保持均衡\n",
    "# sampler = np.random.permutation(unrel_num)[:rel_num*3]\n",
    "# unrel_df=rel_data[rel_data.is_rel==0].take(sampler)\n",
    "\n",
    "\n",
    "### 上采样（Oversampling）：对亲属数据重采样，保持数据均衡\n",
    "sampler = np.random.randint(0,rel_num,size=unrel_num)\n",
    "rel_df=rel_data[rel_data.is_rel==1].take(sampler)\n",
    "rel_data=pd.concat([rel_df,unrel_df],axis=0)\n",
    "\n",
    "rel_data.drop(['name','number'],axis=1,inplace=True)\n",
    "### smote算法  python"
   ]
  },
  {
   "cell_type": "code",
   "execution_count": 92,
   "metadata": {
    "collapsed": false
   },
   "outputs": [],
   "source": [
    "rel_feature=rel_data.ix[:,:-1]\n",
    "target=rel_data.is_rel"
   ]
  },
  {
   "cell_type": "code",
   "execution_count": 142,
   "metadata": {
    "collapsed": false
   },
   "outputs": [],
   "source": [
    "X_train, X_test, y_train, y_test = train_test_split(rel_feature, target)\n",
    "metrics=[]\n",
    "for max_depth in [2, 5, 10]:\n",
    "    for n_estimators in [100, 200, 300]:\n",
    "        params = {'max_depth': max_depth, 'n_estimators': n_estimators}\n",
    "\n",
    "        model = xgb.XGBClassifier(**params)\n",
    "        model.fit(X_train, y_train)\n",
    "        y_pred = model.predict(X_test)\n",
    "        metrics.append([(roc_auc_score(y_test, y_pred) ),precision_score(y_test,y_pred),accuracy_score(y_test,y_pred),\\\n",
    "      f1_score(y_test,y_pred),recall_score(y_test,y_pred)])\n",
    "metrics_df=pd.DataFrame(np.array(metrics),columns=metrics_name)"
   ]
  },
  {
   "cell_type": "code",
   "execution_count": 163,
   "metadata": {
    "collapsed": false
   },
   "outputs": [
    {
     "data": {
      "text/plain": [
       "array([[  0.00000000e+00,   1.10138527e-03,   4.67747120e-02, ...,\n",
       "          7.46268657e-03,   9.87804878e-01,   1.82303246e-02],\n",
       "       [  3.46534653e-02,   1.01464133e-02,   4.90040543e-02, ...,\n",
       "          2.23880597e-02,   9.28355197e-01,   2.44800158e-02],\n",
       "       [  9.90099010e-03,   4.72623084e-03,   6.21554456e-02, ...,\n",
       "          5.97014925e-02,   0.00000000e+00,   2.59837706e-02],\n",
       "       ..., \n",
       "       [  6.60066007e-03,   4.36348343e-04,   7.86120900e-03, ...,\n",
       "          0.00000000e+00,   0.00000000e+00,   6.44730992e-03],\n",
       "       [  4.12541254e-03,   5.28349499e-04,   1.24343569e-02, ...,\n",
       "          0.00000000e+00,   0.00000000e+00,   0.00000000e+00],\n",
       "       [  4.12541254e-02,   1.25410719e-02,   5.18888677e-02, ...,\n",
       "          2.98507463e-02,   7.35294118e-01,   7.55891507e-03]])"
      ]
     },
     "execution_count": 163,
     "metadata": {},
     "output_type": "execute_result"
    }
   ],
   "source": []
  },
  {
   "cell_type": "code",
   "execution_count": 158,
   "metadata": {
    "collapsed": false
   },
   "outputs": [
    {
     "name": "stdout",
     "output_type": "stream",
     "text": [
      "[0]\ttrain-auc:0.74889+0.00960547\ttest-auc:0.707879+0.0111844\n",
      "[1]\ttrain-auc:0.804648+0.00677398\ttest-auc:0.754673+0.0107481\n",
      "[2]\ttrain-auc:0.83466+0.00414556\ttest-auc:0.779191+0.010286\n",
      "[3]\ttrain-auc:0.855066+0.00292937\ttest-auc:0.799891+0.010408\n",
      "[4]\ttrain-auc:0.871649+0.00290194\ttest-auc:0.815222+0.00924547\n",
      "[5]\ttrain-auc:0.888314+0.00329576\ttest-auc:0.830078+0.00880822\n",
      "[6]\ttrain-auc:0.900629+0.00478217\ttest-auc:0.842189+0.0106334\n",
      "[7]\ttrain-auc:0.908746+0.00433946\ttest-auc:0.849933+0.0091588\n",
      "[8]\ttrain-auc:0.917021+0.00527953\ttest-auc:0.856986+0.0110257\n",
      "[9]\ttrain-auc:0.926075+0.00669418\ttest-auc:0.866302+0.0114823\n",
      "[10]\ttrain-auc:0.932557+0.00562555\ttest-auc:0.872895+0.00975103\n",
      "[11]\ttrain-auc:0.939839+0.00633747\ttest-auc:0.880926+0.00982969\n",
      "[12]\ttrain-auc:0.946639+0.00493831\ttest-auc:0.888352+0.00684419\n",
      "[13]\ttrain-auc:0.952129+0.00230549\ttest-auc:0.894799+0.00398004\n",
      "[14]\ttrain-auc:0.955468+0.00337254\ttest-auc:0.898292+0.00448159\n",
      "[15]\ttrain-auc:0.958925+0.00238614\ttest-auc:0.902629+0.00571565\n",
      "[16]\ttrain-auc:0.963565+0.00296992\ttest-auc:0.908312+0.00623819\n",
      "[17]\ttrain-auc:0.965851+0.00344611\ttest-auc:0.910927+0.00606312\n",
      "[18]\ttrain-auc:0.969162+0.00292003\ttest-auc:0.91485+0.00591357\n",
      "[19]\ttrain-auc:0.97107+0.0029367\ttest-auc:0.917765+0.00587425\n",
      "[20]\ttrain-auc:0.973465+0.00267043\ttest-auc:0.921229+0.00607196\n",
      "[21]\ttrain-auc:0.97531+0.00160233\ttest-auc:0.924304+0.00572983\n",
      "[22]\ttrain-auc:0.978055+0.00103742\ttest-auc:0.928105+0.00497092\n",
      "[23]\ttrain-auc:0.978976+0.00138377\ttest-auc:0.92971+0.00466737\n",
      "[24]\ttrain-auc:0.981249+0.000955575\ttest-auc:0.933934+0.00438699\n",
      "[25]\ttrain-auc:0.982646+0.00111144\ttest-auc:0.936263+0.00434546\n",
      "[26]\ttrain-auc:0.983853+0.0011114\ttest-auc:0.938655+0.00451593\n",
      "[27]\ttrain-auc:0.985394+0.000774605\ttest-auc:0.942075+0.00300124\n",
      "[28]\ttrain-auc:0.986684+0.000631098\ttest-auc:0.944108+0.00403197\n",
      "[29]\ttrain-auc:0.987996+0.000321559\ttest-auc:0.947053+0.00328704\n"
     ]
    }
   ],
   "source": [
    "X_train, X_test, y_train, y_test = train_test_split(rel_feature, target)\n",
    "dtrain = xgb.DMatrix(X_train, y_train)\n",
    "dvalid = xgb.DMatrix(X_test, y_test)\n",
    "watchlist = [(dtrain, 'train'), (dvalid, 'eval')]\n",
    "param = {'bst:max_depth':2, 'bst:eta':1, 'silent':1, 'objective':'binary:logistic' }\n",
    "param['nthread'] = 4\n",
    "plst = param.items()\n",
    "plst += [('eval_metric', 'auc')] # Multiple evals can be handled in this way\n",
    "plst += [('eval_metric', 'ams@0')]\n",
    "num_round=30\n",
    "# gbm = xgb.train(param, dtrain, num_boost_round=30, evals=watchlist, early_stopping_rounds=100, verbose_eval=True)\n",
    "xlg=xgb.cv(param, dtrain, num_round, nfold=5,\n",
    "       metrics={'auc'}, seed = 0,\n",
    "       callbacks=[xgb.callback.print_evaluation(show_stdv=True)])"
   ]
  },
  {
   "cell_type": "code",
   "execution_count": 143,
   "metadata": {
    "collapsed": false
   },
   "outputs": [],
   "source": [
    "metrics_name=['auc','precison','accuracy','f1','recall']"
   ]
  },
  {
   "cell_type": "code",
   "execution_count": 159,
   "metadata": {
    "collapsed": false
   },
   "outputs": [
    {
     "data": {
      "text/plain": [
       "<module 'xgboost' from 'D:\\ProgramsFile\\Anaconda\\lib\\site-packages\\xgboost-0.6-py2.7.egg\\xgboost\\__init__.pyc'>"
      ]
     },
     "execution_count": 159,
     "metadata": {},
     "output_type": "execute_result"
    }
   ],
   "source": [
    "xgb."
   ]
  },
  {
   "cell_type": "code",
   "execution_count": 165,
   "metadata": {
    "collapsed": false
   },
   "outputs": [
    {
     "data": {
      "text/html": [
       "<div>\n",
       "<table border=\"1\" class=\"dataframe\">\n",
       "  <thead>\n",
       "    <tr style=\"text-align: right;\">\n",
       "      <th></th>\n",
       "      <th>auc</th>\n",
       "      <th>precison</th>\n",
       "      <th>accuracy</th>\n",
       "      <th>f1</th>\n",
       "      <th>recall</th>\n",
       "    </tr>\n",
       "  </thead>\n",
       "  <tbody>\n",
       "    <tr>\n",
       "      <th>0</th>\n",
       "      <td>0.684329</td>\n",
       "      <td>0.695529</td>\n",
       "      <td>0.684304</td>\n",
       "      <td>0.675503</td>\n",
       "      <td>0.656597</td>\n",
       "    </tr>\n",
       "    <tr>\n",
       "      <th>1</th>\n",
       "      <td>0.723002</td>\n",
       "      <td>0.730399</td>\n",
       "      <td>0.722988</td>\n",
       "      <td>0.718863</td>\n",
       "      <td>0.707685</td>\n",
       "    </tr>\n",
       "    <tr>\n",
       "      <th>2</th>\n",
       "      <td>0.753006</td>\n",
       "      <td>0.756295</td>\n",
       "      <td>0.753001</td>\n",
       "      <td>0.751732</td>\n",
       "      <td>0.747223</td>\n",
       "    </tr>\n",
       "    <tr>\n",
       "      <th>3</th>\n",
       "      <td>0.883496</td>\n",
       "      <td>0.876910</td>\n",
       "      <td>0.883504</td>\n",
       "      <td>0.884632</td>\n",
       "      <td>0.892492</td>\n",
       "    </tr>\n",
       "    <tr>\n",
       "      <th>4</th>\n",
       "      <td>0.943733</td>\n",
       "      <td>0.925106</td>\n",
       "      <td>0.943753</td>\n",
       "      <td>0.945012</td>\n",
       "      <td>0.965793</td>\n",
       "    </tr>\n",
       "    <tr>\n",
       "      <th>5</th>\n",
       "      <td>0.965743</td>\n",
       "      <td>0.946360</td>\n",
       "      <td>0.965763</td>\n",
       "      <td>0.966522</td>\n",
       "      <td>0.987561</td>\n",
       "    </tr>\n",
       "    <tr>\n",
       "      <th>6</th>\n",
       "      <td>0.982870</td>\n",
       "      <td>0.970971</td>\n",
       "      <td>0.982881</td>\n",
       "      <td>0.983110</td>\n",
       "      <td>0.995558</td>\n",
       "    </tr>\n",
       "    <tr>\n",
       "      <th>7</th>\n",
       "      <td>0.988653</td>\n",
       "      <td>0.979094</td>\n",
       "      <td>0.988662</td>\n",
       "      <td>0.988784</td>\n",
       "      <td>0.998667</td>\n",
       "    </tr>\n",
       "    <tr>\n",
       "      <th>8</th>\n",
       "      <td>0.989098</td>\n",
       "      <td>0.979948</td>\n",
       "      <td>0.989106</td>\n",
       "      <td>0.989219</td>\n",
       "      <td>0.998667</td>\n",
       "    </tr>\n",
       "  </tbody>\n",
       "</table>\n",
       "</div>"
      ],
      "text/plain": [
       "        auc  precison  accuracy        f1    recall\n",
       "0  0.684329  0.695529  0.684304  0.675503  0.656597\n",
       "1  0.723002  0.730399  0.722988  0.718863  0.707685\n",
       "2  0.753006  0.756295  0.753001  0.751732  0.747223\n",
       "3  0.883496  0.876910  0.883504  0.884632  0.892492\n",
       "4  0.943733  0.925106  0.943753  0.945012  0.965793\n",
       "5  0.965743  0.946360  0.965763  0.966522  0.987561\n",
       "6  0.982870  0.970971  0.982881  0.983110  0.995558\n",
       "7  0.988653  0.979094  0.988662  0.988784  0.998667\n",
       "8  0.989098  0.979948  0.989106  0.989219  0.998667"
      ]
     },
     "execution_count": 165,
     "metadata": {},
     "output_type": "execute_result"
    }
   ],
   "source": [
    "pd.DataFrame(np.array(metrics),columns=metrics_name)"
   ]
  },
  {
   "cell_type": "code",
   "execution_count": 124,
   "metadata": {
    "collapsed": false
   },
   "outputs": [
    {
     "data": {
      "text/plain": [
       "(17990, 66)"
      ]
     },
     "execution_count": 124,
     "metadata": {},
     "output_type": "execute_result"
    }
   ],
   "source": [
    "r"
   ]
  },
  {
   "cell_type": "code",
   "execution_count": 141,
   "metadata": {
    "collapsed": false
   },
   "outputs": [
    {
     "data": {
      "text/plain": [
       "<matplotlib.axes._subplots.AxesSubplot at 0x16e9fac8>"
      ]
     },
     "execution_count": 141,
     "metadata": {},
     "output_type": "execute_result"
    },
    {
     "data": {
      "image/png": "[encoded data removed]",
      "text/plain": [
       "<matplotlib.figure.Figure at 0x16cd7550>"
      ]
     },
     "metadata": {},
     "output_type": "display_data"
    }
   ],
   "source": [
    "pd.DataFrame(model.feature_importances_,index=rel_feature.columns,columns=['im']).sort_values('im').plot.bar(figsize=(15,12),rot=90)"
   ]
  },
  {
   "cell_type": "code",
   "execution_count": 104,
   "metadata": {
    "collapsed": false
   },
   "outputs": [
    {
     "name": "stdout",
     "output_type": "stream",
     "text": [
      "0.819007535539\n",
      "0.806310254163\n",
      "0.818808359271\n",
      "0.818687430478\n",
      "0.831450519657\n"
     ]
    }
   ],
   "source": [
    "print( roc_auc_score(y_test, y_pred) )\n",
    "print precision_score(y_test,y_pred)\n",
    "print accuracy_score(y_test,y_pred)\n",
    "print f1_score(y_test,y_pred)\n",
    "print recall_score(y_test,y_pred)\n"
   ]
  },
  {
   "cell_type": "code",
   "execution_count": 49,
   "metadata": {
    "collapsed": false
   },
   "outputs": [
    {
     "data": {
      "text/plain": [
       "(2500, 66)"
      ]
     },
     "execution_count": 49,
     "metadata": {},
     "output_type": "execute_result"
    }
   ],
   "source": []
  }
 ],
 "metadata": {
  "kernelspec": {
   "display_name": "Python [Root]",
   "language": "python",
   "name": "Python [Root]"
  },
  "language_info": {
   "codemirror_mode": {
    "name": "ipython",
    "version": 2
   },
   "file_extension": ".py",
   "mimetype": "text/x-python",
   "name": "python",
   "nbconvert_exporter": "python",
   "pygments_lexer": "ipython2",
   "version": "2.7.12"
  }
 },
 "nbformat": 4,
 "nbformat_minor": 0
}
